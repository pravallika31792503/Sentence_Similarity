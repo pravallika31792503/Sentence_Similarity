{
 "cells": [
  {
   "cell_type": "code",
   "execution_count": null,
   "id": "c5e803ee",
   "metadata": {},
   "outputs": [
    {
     "ename": "",
     "evalue": "",
     "output_type": "error",
     "traceback": [
      "\u001b[1;31mFailed to start the Kernel. \n",
      "\u001b[1;31mUnable to start Kernel 'env (Python 3.8.0)' due to a timeout waiting for the ports to get used. \n",
      "\u001b[1;31mView Jupyter <a href='command:jupyter.viewOutput'>log</a> for further details."
     ]
    }
   ],
   "source": [
    "!pip install pandas sentence-transformers faiss-cpu\n"
   ]
  },
  {
   "cell_type": "code",
   "execution_count": 1,
   "id": "22f0cc4b",
   "metadata": {},
   "outputs": [
    {
     "ename": "ModuleNotFoundError",
     "evalue": "No module named 'pandas'",
     "output_type": "error",
     "traceback": [
      "\u001b[1;31m---------------------------------------------------------------------------\u001b[0m",
      "\u001b[1;31mModuleNotFoundError\u001b[0m                       Traceback (most recent call last)",
      "Cell \u001b[1;32mIn[1], line 1\u001b[0m\n\u001b[1;32m----> 1\u001b[0m \u001b[38;5;28;01mimport\u001b[39;00m \u001b[38;5;21;01mpandas\u001b[39;00m \u001b[38;5;28;01mas\u001b[39;00m \u001b[38;5;21;01mpd\u001b[39;00m\n\u001b[0;32m      3\u001b[0m \u001b[38;5;66;03m# Load the data\u001b[39;00m\n\u001b[0;32m      4\u001b[0m data \u001b[38;5;241m=\u001b[39m pd\u001b[38;5;241m.\u001b[39mread_csv(\u001b[38;5;124m'\u001b[39m\u001b[38;5;124mC://Users//new//python practice//Precily_Assignment//Precily_Text_Similarity.csv\u001b[39m\u001b[38;5;124m'\u001b[39m)\n",
      "\u001b[1;31mModuleNotFoundError\u001b[0m: No module named 'pandas'"
     ]
    }
   ],
   "source": [
    "import pandas as pd\n",
    "\n",
    "# Load the data\n",
    "data = pd.read_csv('C://Users//new//python practice//Precily_Assignment//Precily_Text_Similarity.csv')\n",
    "\n",
    "# Preview the data\n",
    "data.head()\n"
   ]
  },
  {
   "cell_type": "code",
   "execution_count": 3,
   "id": "869b65c0",
   "metadata": {},
   "outputs": [
    {
     "data": {
      "application/vnd.jupyter.widget-view+json": {
       "model_id": "b44e49b89b1e4e7eb63d24b448b3c686",
       "version_major": 2,
       "version_minor": 0
      },
      "text/plain": [
       "Downloading .gitattributes:   0%|          | 0.00/1.18k [00:00<?, ?B/s]"
      ]
     },
     "metadata": {},
     "output_type": "display_data"
    },
    {
     "data": {
      "application/vnd.jupyter.widget-view+json": {
       "model_id": "e1ba6fe37a8f483196fa423dbc6db41b",
       "version_major": 2,
       "version_minor": 0
      },
      "text/plain": [
       "Downloading 1_Pooling/config.json:   0%|          | 0.00/190 [00:00<?, ?B/s]"
      ]
     },
     "metadata": {},
     "output_type": "display_data"
    },
    {
     "data": {
      "application/vnd.jupyter.widget-view+json": {
       "model_id": "8f7f2db57eb5496ebd5e98e9fbca27bb",
       "version_major": 2,
       "version_minor": 0
      },
      "text/plain": [
       "Downloading README.md:   0%|          | 0.00/10.6k [00:00<?, ?B/s]"
      ]
     },
     "metadata": {},
     "output_type": "display_data"
    },
    {
     "data": {
      "application/vnd.jupyter.widget-view+json": {
       "model_id": "5f5744e308f846ccb21b81aa068a3c99",
       "version_major": 2,
       "version_minor": 0
      },
      "text/plain": [
       "Downloading config.json:   0%|          | 0.00/612 [00:00<?, ?B/s]"
      ]
     },
     "metadata": {},
     "output_type": "display_data"
    },
    {
     "data": {
      "application/vnd.jupyter.widget-view+json": {
       "model_id": "908320da45794894ac4365c9c04f9b10",
       "version_major": 2,
       "version_minor": 0
      },
      "text/plain": [
       "Downloading (…)ce_transformers.json:   0%|          | 0.00/116 [00:00<?, ?B/s]"
      ]
     },
     "metadata": {},
     "output_type": "display_data"
    },
    {
     "data": {
      "application/vnd.jupyter.widget-view+json": {
       "model_id": "a1071371ade7448080ca007f5077e75b",
       "version_major": 2,
       "version_minor": 0
      },
      "text/plain": [
       "Downloading data_config.json:   0%|          | 0.00/39.3k [00:00<?, ?B/s]"
      ]
     },
     "metadata": {},
     "output_type": "display_data"
    },
    {
     "data": {
      "application/vnd.jupyter.widget-view+json": {
       "model_id": "c2704cc1243b4f25aa38d261c0ccb909",
       "version_major": 2,
       "version_minor": 0
      },
      "text/plain": [
       "Downloading pytorch_model.bin:   0%|          | 0.00/90.9M [00:00<?, ?B/s]"
      ]
     },
     "metadata": {},
     "output_type": "display_data"
    },
    {
     "data": {
      "application/vnd.jupyter.widget-view+json": {
       "model_id": "13d8c933feff40fb920d24f032151b5c",
       "version_major": 2,
       "version_minor": 0
      },
      "text/plain": [
       "Downloading (…)nce_bert_config.json:   0%|          | 0.00/53.0 [00:00<?, ?B/s]"
      ]
     },
     "metadata": {},
     "output_type": "display_data"
    },
    {
     "data": {
      "application/vnd.jupyter.widget-view+json": {
       "model_id": "b5202d039d9d4b7b9fe32be28b596e47",
       "version_major": 2,
       "version_minor": 0
      },
      "text/plain": [
       "Downloading (…)cial_tokens_map.json:   0%|          | 0.00/112 [00:00<?, ?B/s]"
      ]
     },
     "metadata": {},
     "output_type": "display_data"
    },
    {
     "data": {
      "application/vnd.jupyter.widget-view+json": {
       "model_id": "fce7ecd7eda34d2dae4a3e9f8d1cf7b6",
       "version_major": 2,
       "version_minor": 0
      },
      "text/plain": [
       "Downloading tokenizer.json:   0%|          | 0.00/466k [00:00<?, ?B/s]"
      ]
     },
     "metadata": {},
     "output_type": "display_data"
    },
    {
     "data": {
      "application/vnd.jupyter.widget-view+json": {
       "model_id": "fa2bbfdcc58d4c00aee7bc3010a52716",
       "version_major": 2,
       "version_minor": 0
      },
      "text/plain": [
       "Downloading tokenizer_config.json:   0%|          | 0.00/350 [00:00<?, ?B/s]"
      ]
     },
     "metadata": {},
     "output_type": "display_data"
    },
    {
     "data": {
      "application/vnd.jupyter.widget-view+json": {
       "model_id": "7c30c7a638df44da9967bd02b9b7499a",
       "version_major": 2,
       "version_minor": 0
      },
      "text/plain": [
       "Downloading train_script.py:   0%|          | 0.00/13.2k [00:00<?, ?B/s]"
      ]
     },
     "metadata": {},
     "output_type": "display_data"
    },
    {
     "data": {
      "application/vnd.jupyter.widget-view+json": {
       "model_id": "fa00a8e814834c448942b4c722621a09",
       "version_major": 2,
       "version_minor": 0
      },
      "text/plain": [
       "Downloading vocab.txt:   0%|          | 0.00/232k [00:00<?, ?B/s]"
      ]
     },
     "metadata": {},
     "output_type": "display_data"
    },
    {
     "data": {
      "application/vnd.jupyter.widget-view+json": {
       "model_id": "7e0c18adb519459b8ed79a80a45ba2be",
       "version_major": 2,
       "version_minor": 0
      },
      "text/plain": [
       "Downloading modules.json:   0%|          | 0.00/349 [00:00<?, ?B/s]"
      ]
     },
     "metadata": {},
     "output_type": "display_data"
    }
   ],
   "source": [
    "from sentence_transformers import SentenceTransformer\n",
    "\n",
    "# Load a pre-trained Sentence Transformer model\n",
    "model = SentenceTransformer('all-MiniLM-L6-v2')\n"
   ]
  },
  {
   "cell_type": "code",
   "execution_count": 6,
   "id": "cdb6eeb9",
   "metadata": {},
   "outputs": [],
   "source": [
    "from sklearn.metrics.pairwise import cosine_similarity\n",
    "import pandas as pd\n",
    "import numpy as np"
   ]
  },
  {
   "cell_type": "code",
   "execution_count": 7,
   "id": "152c9f56",
   "metadata": {},
   "outputs": [],
   "source": [
    "# Function to generate embeddings in batches\n",
    "def generate_embeddings(text_list, batch_size=32):\n",
    "    embeddings = []\n",
    "    for i in range(0, len(text_list), batch_size):\n",
    "        batch = text_list[i:i + batch_size]\n",
    "        embeddings.extend(model.encode(batch, show_progress_bar=False))\n",
    "    return embeddings\n",
    "\n",
    "# Function to process each chunk\n",
    "def process_chunk(chunk, batch_size=32):\n",
    "    chunk['text1_embeddings'] = generate_embeddings(chunk['text1'].tolist(), batch_size)\n",
    "    chunk['text2_embeddings'] = generate_embeddings(chunk['text2'].tolist(), batch_size)\n",
    "    chunk['similarity'] = [cosine_similarity([e1], [e2])[0][0] for e1, e2 in zip(chunk['text1_embeddings'], chunk['text2_embeddings'])]\n",
    "    return chunk[['text1', 'text2', 'similarity']]\n",
    "\n",
    "\n"
   ]
  },
  {
   "cell_type": "code",
   "execution_count": 8,
   "id": "945825b3",
   "metadata": {},
   "outputs": [],
   "source": [
    "# Read the file in chunks\n",
    "chunk_size = 5000  # Adjust based on your memory\n",
    "chunks = pd.read_csv('C://Users//new//python practice//Precily_Assignment//Precily_Text_Similarity.csv', chunksize=chunk_size)\n",
    "\n",
    "# Process each chunk and concatenate the results\n",
    "results = pd.DataFrame()\n",
    "for chunk in chunks:\n",
    "    processed_chunk = process_chunk(chunk)\n",
    "    results = pd.concat([results, processed_chunk], ignore_index=True)\n",
    "\n",
    "# Save the results to a new CSV file\n",
    "results.to_csv('similarity_scores.csv', index=False)"
   ]
  },
  {
   "cell_type": "code",
   "execution_count": 9,
   "id": "2a6a0526",
   "metadata": {},
   "outputs": [
    {
     "data": {
      "text/html": [
       "<div>\n",
       "<style scoped>\n",
       "    .dataframe tbody tr th:only-of-type {\n",
       "        vertical-align: middle;\n",
       "    }\n",
       "\n",
       "    .dataframe tbody tr th {\n",
       "        vertical-align: top;\n",
       "    }\n",
       "\n",
       "    .dataframe thead th {\n",
       "        text-align: right;\n",
       "    }\n",
       "</style>\n",
       "<table border=\"1\" class=\"dataframe\">\n",
       "  <thead>\n",
       "    <tr style=\"text-align: right;\">\n",
       "      <th></th>\n",
       "      <th>text1</th>\n",
       "      <th>text2</th>\n",
       "      <th>similarity</th>\n",
       "    </tr>\n",
       "  </thead>\n",
       "  <tbody>\n",
       "    <tr>\n",
       "      <th>0</th>\n",
       "      <td>broadband challenges tv viewing the number of ...</td>\n",
       "      <td>gardener wins double in glasgow britain s jaso...</td>\n",
       "      <td>0.086190</td>\n",
       "    </tr>\n",
       "    <tr>\n",
       "      <th>1</th>\n",
       "      <td>rap boss arrested over drug find rap mogul mar...</td>\n",
       "      <td>amnesty chief laments war failure the lack of ...</td>\n",
       "      <td>0.165480</td>\n",
       "    </tr>\n",
       "    <tr>\n",
       "      <th>2</th>\n",
       "      <td>player burn-out worries robinson england coach...</td>\n",
       "      <td>hanks greeted at wintry premiere hollywood sta...</td>\n",
       "      <td>0.077801</td>\n",
       "    </tr>\n",
       "    <tr>\n",
       "      <th>3</th>\n",
       "      <td>hearts of oak 3-2 cotonsport hearts of oak set...</td>\n",
       "      <td>redford s vision of sundance despite sporting ...</td>\n",
       "      <td>-0.186152</td>\n",
       "    </tr>\n",
       "    <tr>\n",
       "      <th>4</th>\n",
       "      <td>sir paul rocks super bowl crowds sir paul mcca...</td>\n",
       "      <td>mauresmo opens with victory in la amelie maure...</td>\n",
       "      <td>0.088690</td>\n",
       "    </tr>\n",
       "  </tbody>\n",
       "</table>\n",
       "</div>"
      ],
      "text/plain": [
       "                                               text1  \\\n",
       "0  broadband challenges tv viewing the number of ...   \n",
       "1  rap boss arrested over drug find rap mogul mar...   \n",
       "2  player burn-out worries robinson england coach...   \n",
       "3  hearts of oak 3-2 cotonsport hearts of oak set...   \n",
       "4  sir paul rocks super bowl crowds sir paul mcca...   \n",
       "\n",
       "                                               text2  similarity  \n",
       "0  gardener wins double in glasgow britain s jaso...    0.086190  \n",
       "1  amnesty chief laments war failure the lack of ...    0.165480  \n",
       "2  hanks greeted at wintry premiere hollywood sta...    0.077801  \n",
       "3  redford s vision of sundance despite sporting ...   -0.186152  \n",
       "4  mauresmo opens with victory in la amelie maure...    0.088690  "
      ]
     },
     "execution_count": 9,
     "metadata": {},
     "output_type": "execute_result"
    }
   ],
   "source": [
    "\n",
    "# Load the dataset\n",
    "df = pd.read_csv('C://Users//new//python practice//Precily_Assignment//similarity_scores.csv')\n",
    "df.head()"
   ]
  },
  {
   "cell_type": "code",
   "execution_count": 11,
   "id": "98356eea",
   "metadata": {},
   "outputs": [
    {
     "name": "stdout",
     "output_type": "stream",
     "text": [
      "count    3000.000000\n",
      "mean        0.116835\n",
      "std         0.120859\n",
      "min        -0.186152\n",
      "25%         0.033435\n",
      "50%         0.096483\n",
      "75%         0.184137\n",
      "max         1.000000\n",
      "Name: similarity, dtype: float64\n"
     ]
    }
   ],
   "source": [
    "print(df['similarity'].describe())"
   ]
  },
  {
   "cell_type": "code",
   "execution_count": 12,
   "id": "a3485467",
   "metadata": {},
   "outputs": [],
   "source": [
    "df['normalized_similarity_score'] = df['similarity'].apply(lambda x: (x + 1) / 2)\n"
   ]
  },
  {
   "cell_type": "code",
   "execution_count": 13,
   "id": "89abb81c",
   "metadata": {},
   "outputs": [
    {
     "data": {
      "text/html": [
       "<div>\n",
       "<style scoped>\n",
       "    .dataframe tbody tr th:only-of-type {\n",
       "        vertical-align: middle;\n",
       "    }\n",
       "\n",
       "    .dataframe tbody tr th {\n",
       "        vertical-align: top;\n",
       "    }\n",
       "\n",
       "    .dataframe thead th {\n",
       "        text-align: right;\n",
       "    }\n",
       "</style>\n",
       "<table border=\"1\" class=\"dataframe\">\n",
       "  <thead>\n",
       "    <tr style=\"text-align: right;\">\n",
       "      <th></th>\n",
       "      <th>text1</th>\n",
       "      <th>text2</th>\n",
       "      <th>similarity</th>\n",
       "      <th>normalized_similarity_score</th>\n",
       "    </tr>\n",
       "  </thead>\n",
       "  <tbody>\n",
       "    <tr>\n",
       "      <th>0</th>\n",
       "      <td>broadband challenges tv viewing the number of ...</td>\n",
       "      <td>gardener wins double in glasgow britain s jaso...</td>\n",
       "      <td>0.086190</td>\n",
       "      <td>0.543095</td>\n",
       "    </tr>\n",
       "    <tr>\n",
       "      <th>1</th>\n",
       "      <td>rap boss arrested over drug find rap mogul mar...</td>\n",
       "      <td>amnesty chief laments war failure the lack of ...</td>\n",
       "      <td>0.165480</td>\n",
       "      <td>0.582740</td>\n",
       "    </tr>\n",
       "    <tr>\n",
       "      <th>2</th>\n",
       "      <td>player burn-out worries robinson england coach...</td>\n",
       "      <td>hanks greeted at wintry premiere hollywood sta...</td>\n",
       "      <td>0.077801</td>\n",
       "      <td>0.538900</td>\n",
       "    </tr>\n",
       "    <tr>\n",
       "      <th>3</th>\n",
       "      <td>hearts of oak 3-2 cotonsport hearts of oak set...</td>\n",
       "      <td>redford s vision of sundance despite sporting ...</td>\n",
       "      <td>-0.186152</td>\n",
       "      <td>0.406924</td>\n",
       "    </tr>\n",
       "    <tr>\n",
       "      <th>4</th>\n",
       "      <td>sir paul rocks super bowl crowds sir paul mcca...</td>\n",
       "      <td>mauresmo opens with victory in la amelie maure...</td>\n",
       "      <td>0.088690</td>\n",
       "      <td>0.544345</td>\n",
       "    </tr>\n",
       "  </tbody>\n",
       "</table>\n",
       "</div>"
      ],
      "text/plain": [
       "                                               text1  \\\n",
       "0  broadband challenges tv viewing the number of ...   \n",
       "1  rap boss arrested over drug find rap mogul mar...   \n",
       "2  player burn-out worries robinson england coach...   \n",
       "3  hearts of oak 3-2 cotonsport hearts of oak set...   \n",
       "4  sir paul rocks super bowl crowds sir paul mcca...   \n",
       "\n",
       "                                               text2  similarity  \\\n",
       "0  gardener wins double in glasgow britain s jaso...    0.086190   \n",
       "1  amnesty chief laments war failure the lack of ...    0.165480   \n",
       "2  hanks greeted at wintry premiere hollywood sta...    0.077801   \n",
       "3  redford s vision of sundance despite sporting ...   -0.186152   \n",
       "4  mauresmo opens with victory in la amelie maure...    0.088690   \n",
       "\n",
       "   normalized_similarity_score  \n",
       "0                     0.543095  \n",
       "1                     0.582740  \n",
       "2                     0.538900  \n",
       "3                     0.406924  \n",
       "4                     0.544345  "
      ]
     },
     "execution_count": 13,
     "metadata": {},
     "output_type": "execute_result"
    }
   ],
   "source": [
    "df.head()"
   ]
  },
  {
   "cell_type": "code",
   "execution_count": 14,
   "id": "9df526eb",
   "metadata": {},
   "outputs": [
    {
     "data": {
      "text/plain": [
       "count    3000.000000\n",
       "mean        0.558418\n",
       "std         0.060429\n",
       "min         0.406924\n",
       "25%         0.516718\n",
       "50%         0.548242\n",
       "75%         0.592069\n",
       "max         1.000000\n",
       "Name: normalized_similarity_score, dtype: float64"
      ]
     },
     "execution_count": 14,
     "metadata": {},
     "output_type": "execute_result"
    }
   ],
   "source": [
    "df['normalized_similarity_score'].describe()"
   ]
  },
  {
   "cell_type": "code",
   "execution_count": 16,
   "id": "ec43a599",
   "metadata": {},
   "outputs": [
    {
     "data": {
      "image/png": "[encoded data removed]",
      "text/plain": [
       "<Figure size 640x480 with 1 Axes>"
      ]
     },
     "metadata": {},
     "output_type": "display_data"
    }
   ],
   "source": [
    "import matplotlib.pyplot as plt\n",
    "\n",
    "# Histogram of similarity scores\n",
    "df['normalized_similarity_score'].hist(bins=50)\n",
    "plt.title('Distribution of Similarity Scores')\n",
    "plt.xlabel('Similarity Score')\n",
    "plt.ylabel('Frequency')\n",
    "plt.show()\n"
   ]
  },
  {
   "cell_type": "code",
   "execution_count": 17,
   "id": "d0c9ee06",
   "metadata": {},
   "outputs": [
    {
     "data": {
      "image/png": "[encoded data removed]",
      "text/plain": [
       "<Figure size 640x480 with 1 Axes>"
      ]
     },
     "metadata": {},
     "output_type": "display_data"
    }
   ],
   "source": [
    "plt.boxplot(df['normalized_similarity_score'], vert=False)\n",
    "plt.title('Boxplot of Normalized Similarity Scores')\n",
    "plt.xlabel('Similarity Score')\n",
    "plt.show()\n"
   ]
  },
  {
   "cell_type": "code",
   "execution_count": 19,
   "id": "d4142791",
   "metadata": {},
   "outputs": [
    {
     "data": {
      "image/png": "[encoded data removed]",
      "text/plain": [
       "<Figure size 640x480 with 1 Axes>"
      ]
     },
     "metadata": {},
     "output_type": "display_data"
    }
   ],
   "source": [
    "import numpy as np\n",
    "\n",
    "data_sorted = np.sort(df['normalized_similarity_score'])\n",
    "p = 1. * np.arange(len(data_sorted)) / (len(data_sorted) - 1)\n",
    "\n",
    "plt.plot(data_sorted, p)\n",
    "plt.title('CDF of Normalized Similarity Scores')\n",
    "plt.xlabel('Similarity Score')\n",
    "plt.ylabel('Cumulative Probability')\n",
    "plt.show()\n"
   ]
  },
  {
   "cell_type": "code",
   "execution_count": 26,
   "id": "6ef5404d",
   "metadata": {},
   "outputs": [
    {
     "data": {
      "text/html": [
       "<div>\n",
       "<style scoped>\n",
       "    .dataframe tbody tr th:only-of-type {\n",
       "        vertical-align: middle;\n",
       "    }\n",
       "\n",
       "    .dataframe tbody tr th {\n",
       "        vertical-align: top;\n",
       "    }\n",
       "\n",
       "    .dataframe thead th {\n",
       "        text-align: right;\n",
       "    }\n",
       "</style>\n",
       "<table border=\"1\" class=\"dataframe\">\n",
       "  <thead>\n",
       "    <tr style=\"text-align: right;\">\n",
       "      <th></th>\n",
       "      <th>text1</th>\n",
       "      <th>text2</th>\n",
       "      <th>similarity</th>\n",
       "      <th>normalized_similarity</th>\n",
       "    </tr>\n",
       "  </thead>\n",
       "  <tbody>\n",
       "    <tr>\n",
       "      <th>0</th>\n",
       "      <td>The quick brown fox jumps over the lazy dog.</td>\n",
       "      <td>A nimble fox leaps over a lazy hound.</td>\n",
       "      <td>0.80926</td>\n",
       "      <td>0.90463</td>\n",
       "    </tr>\n",
       "  </tbody>\n",
       "</table>\n",
       "</div>"
      ],
      "text/plain": [
       "                                          text1  \\\n",
       "0  The quick brown fox jumps over the lazy dog.   \n",
       "\n",
       "                                   text2  similarity  normalized_similarity  \n",
       "0  A nimble fox leaps over a lazy hound.     0.80926                0.90463  "
      ]
     },
     "execution_count": 26,
     "metadata": {},
     "output_type": "execute_result"
    }
   ],
   "source": [
    "import pandas as pd\n",
    "from sentence_transformers import SentenceTransformer\n",
    "from sklearn.metrics.pairwise import cosine_similarity\n",
    "\n",
    "# Assuming the model and generate_embeddings function are already defined and loaded\n",
    "\n",
    "# Example sentences for testing\n",
    "test_data = pd.DataFrame({\n",
    "    'text1': [\"The quick brown fox jumps over the lazy dog.\"],\n",
    "    'text2': [\"A nimble fox leaps over a lazy hound.\"]\n",
    "})\n",
    "\n",
    "# Use the existing generate_embeddings function to generate embeddings for the test data\n",
    "test_data['text1_embeddings'] = generate_embeddings(test_data['text1'].tolist())\n",
    "test_data['text2_embeddings'] = generate_embeddings(test_data['text2'].tolist())\n",
    "\n",
    "# Calculate the cosine similarity\n",
    "test_data['similarity'] = [cosine_similarity([e1], [e2])[0][0] for e1, e2 in zip(test_data['text1_embeddings'], test_data['text2_embeddings'])]\n",
    "\n",
    "# Normalize the similarity scores to be between 0 and 1\n",
    "# The cosine similarity ranges from -1 to 1, so we shift and scale to get 0 to 1\n",
    "test_data['normalized_similarity'] = (test_data['similarity'] + 1) / 2\n",
    "\n",
    "# Select only the required columns for the final output\n",
    "output_df = test_data[['text1', 'text2','similarity', 'normalized_similarity']]\n",
    "\n",
    "# Display the DataFrame as a table\n",
    "output_df\n"
   ]
  },
  {
   "cell_type": "markdown",
   "id": "568bdb77",
   "metadata": {},
   "source": [
    "# Pickling model file for Deployment"
   ]
  },
  {
   "cell_type": "code",
   "execution_count": 31,
   "id": "b6a771d0",
   "metadata": {},
   "outputs": [
    {
     "name": "stdout",
     "output_type": "stream",
     "text": [
      "Normalized similarity score: 0.9013875722885132\n"
     ]
    }
   ],
   "source": [
    "import pickle\n",
    "from sentence_transformers import SentenceTransformer\n",
    "from sklearn.metrics.pairwise import cosine_similarity\n",
    "import numpy as np\n",
    "\n",
    "# Function to calculate normalized similarity\n",
    "def calculate_normalized_similarity(text1, text2):\n",
    "    embeddings1 = model.encode([text1])\n",
    "    embeddings2 = model.encode([text2])\n",
    "    similarity_score = cosine_similarity([embeddings1[0]], [embeddings2[0]])[0][0]\n",
    "\n",
    "    # Normalize and clip the score to be between 0 and 1\n",
    "    normalized_score = (similarity_score + 1) / 2\n",
    "    normalized_score = np.clip(normalized_score, 0, 1)\n",
    "    return normalized_score\n",
    "\n",
    "# Save the function using pickle\n",
    "with open('normalized_similarity_function.pkl', 'wb') as file:\n",
    "    pickle.dump(calculate_normalized_similarity, file)\n",
    "\n",
    "# Later, when you need to use the function\n",
    "with open('normalized_similarity_function.pkl', 'rb') as file:\n",
    "    loaded_similarity_function = pickle.load(file)\n",
    "\n",
    "# Example of using the loaded function\n",
    "text1 = 'The quick brown fox jumps over the lazy dog'\n",
    "text2 = 'A nimble fox leaps over a lazy hound'\n",
    "normalized_similarity_score = loaded_similarity_function(text1, text2)\n",
    "\n",
    "print(f\"Normalized similarity score: {normalized_similarity_score}\")\n"
   ]
  },
  {
   "cell_type": "code",
   "execution_count": null,
   "id": "05b3f433",
   "metadata": {},
   "outputs": [],
   "source": []
  },
  {
   "cell_type": "code",
   "execution_count": null,
   "id": "9b2d0eab",
   "metadata": {},
   "outputs": [],
   "source": []
  },
  {
   "cell_type": "code",
   "execution_count": null,
   "id": "7c907f71",
   "metadata": {},
   "outputs": [],
   "source": []
  },
  {
   "cell_type": "code",
   "execution_count": null,
   "id": "31f25301",
   "metadata": {},
   "outputs": [],
   "source": []
  },
  {
   "cell_type": "code",
   "execution_count": null,
   "id": "046ddade",
   "metadata": {},
   "outputs": [],
   "source": []
  },
  {
   "cell_type": "code",
   "execution_count": null,
   "id": "089e7ac6",
   "metadata": {},
   "outputs": [],
   "source": []
  },
  {
   "cell_type": "code",
   "execution_count": null,
   "id": "4d183fc9",
   "metadata": {},
   "outputs": [],
   "source": []
  }
 ],
 "metadata": {
  "kernelspec": {
   "display_name": "Python 3 (ipykernel)",
   "language": "python",
   "name": "python3"
  },
  "language_info": {
   "codemirror_mode": {
    "name": "ipython",
    "version": 3
   },
   "file_extension": ".py",
   "mimetype": "text/x-python",
   "name": "python",
   "nbconvert_exporter": "python",
   "pygments_lexer": "ipython3",
   "version": "3.8.18"
  }
 },
 "nbformat": 4,
 "nbformat_minor": 5
}
